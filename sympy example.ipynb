{
 "cells": [
  {
   "cell_type": "code",
   "execution_count": null,
   "metadata": {},
   "outputs": [
    {
     "data": {
      "text/latex": [
       "$\\displaystyle \\bar{x} \\omega_{0} x - \\frac{\\left(\\bar{x} + x\\right)^{4}}{96} + \\frac{\\left(\\bar{x} + x\\right)^{6}}{5760 \\omega_{0}} - \\frac{\\left(\\bar{x} + x\\right)^{8}}{645120 \\omega_{0}^{2}} + \\frac{\\left(\\bar{x} + x\\right)^{10}}{116121600 \\omega_{0}^{3}} - \\frac{\\left(\\bar{x} + x\\right)^{12}}{30656102400 \\omega_{0}^{4}} + \\frac{\\left(\\bar{x} + x\\right)^{14}}{11158821273600 \\omega_{0}^{5}} - \\frac{\\left(\\bar{x} + x\\right)^{16}}{5356234211328000 \\omega_{0}^{6}} + \\frac{\\left(\\bar{x} + x\\right)^{18}}{3278015337332736000 \\omega_{0}^{7}}$"
      ],
      "text/plain": [
       "\\bar{x}*\\omega_0*x - (\\bar{x} + x)**4/96 + (\\bar{x} + x)**6/(5760*\\omega_0) - (\\bar{x} + x)**8/(645120*\\omega_0**2) + (\\bar{x} + x)**10/(116121600*\\omega_0**3) - (\\bar{x} + x)**12/(30656102400*\\omega_0**4) + (\\bar{x} + x)**14/(11158821273600*\\omega_0**5) - (\\bar{x} + x)**16/(5356234211328000*\\omega_0**6) + (\\bar{x} + x)**18/(3278015337332736000*\\omega_0**7)"
      ]
     },
     "execution_count": 11,
     "metadata": {},
     "output_type": "execute_result"
    }
   ],
   "source": [
    "import numpy as np\n",
    "import math\n",
    "from sympy import *\n",
    "\n",
    "# Define all the variables\n",
    "x = symbols(\"x\")\n",
    "x_bar = symbols(r\"\\bar{x}\")\n",
    "omega_0 = symbols(r\"\\omega_0\")\n",
    "\n",
    "def h_2n(n_val, x_val, x_bar_val, omega_0_val):\n",
    "\treturn ((-1)**(n_val+1) * omega_0_val**2 / math.factorial(2*n_val)) * (1 / (2*omega_0_val))**n_val * (x_val + x_bar_val)**(2*n_val)\n",
    "\n",
    "h = omega_0 * x * x_bar\n",
    "\n",
    "for i in range(2,10):\n",
    "\th += h_2n(i, x, x_bar, omega_0)\n",
    "\n",
    "h"
   ]
  },
  {
   "cell_type": "code",
   "execution_count": null,
   "metadata": {},
   "outputs": [],
   "source": []
  }
 ],
 "metadata": {
  "kernelspec": {
   "display_name": "test",
   "language": "python",
   "name": "python3"
  },
  "language_info": {
   "codemirror_mode": {
    "name": "ipython",
    "version": 3
   },
   "file_extension": ".py",
   "mimetype": "text/x-python",
   "name": "python",
   "nbconvert_exporter": "python",
   "pygments_lexer": "ipython3",
   "version": "3.11.11"
  }
 },
 "nbformat": 4,
 "nbformat_minor": 2
}
