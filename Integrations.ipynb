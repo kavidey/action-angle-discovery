{
 "cells": [
  {
   "cell_type": "code",
   "execution_count": 11,
   "id": "7252edf8-6233-4ebc-970f-d39ccecd0261",
   "metadata": {},
   "outputs": [],
   "source": [
    "import numpy as np\n",
    "import matplotlib.pyplot as plt\n",
    "import pandas as pd\n",
    "\n",
    "import rebound as rb\n",
    "\n",
    "try:\n",
    "    plt.style.use('/Users/dtamayo/.matplotlib/paper.mplstyle')\n",
    "except:\n",
    "    pass"
   ]
  },
  {
   "cell_type": "code",
   "execution_count": 6,
   "id": "3950e9ef-6e21-4c31-a208-24585a3fac8f",
   "metadata": {},
   "outputs": [
    {
     "data": {
      "text/html": [
       "<div>\n",
       "<style scoped>\n",
       "    .dataframe tbody tr th:only-of-type {\n",
       "        vertical-align: middle;\n",
       "    }\n",
       "\n",
       "    .dataframe tbody tr th {\n",
       "        vertical-align: top;\n",
       "    }\n",
       "\n",
       "    .dataframe thead th {\n",
       "        text-align: right;\n",
       "    }\n",
       "</style>\n",
       "<table border=\"1\" class=\"dataframe\">\n",
       "  <thead>\n",
       "    <tr style=\"text-align: right;\">\n",
       "      <th></th>\n",
       "      <th>Des'n</th>\n",
       "      <th>H</th>\n",
       "      <th>G</th>\n",
       "      <th>Epoch</th>\n",
       "      <th>M</th>\n",
       "      <th>Peri.</th>\n",
       "      <th>Node</th>\n",
       "      <th>Incl.</th>\n",
       "      <th>e</th>\n",
       "      <th>n</th>\n",
       "      <th>a</th>\n",
       "    </tr>\n",
       "  </thead>\n",
       "  <tbody>\n",
       "    <tr>\n",
       "      <th>1</th>\n",
       "      <td>00001</td>\n",
       "      <td>3.34</td>\n",
       "      <td>0.15</td>\n",
       "      <td>K239D</td>\n",
       "      <td>60.07879</td>\n",
       "      <td>73.42179</td>\n",
       "      <td>80.25496</td>\n",
       "      <td>10.58688</td>\n",
       "      <td>0.078913</td>\n",
       "      <td>.21410680</td>\n",
       "      <td>2.767254</td>\n",
       "    </tr>\n",
       "    <tr>\n",
       "      <th>2</th>\n",
       "      <td>00002</td>\n",
       "      <td>4.12</td>\n",
       "      <td>0.15</td>\n",
       "      <td>K239D</td>\n",
       "      <td>40.59806</td>\n",
       "      <td>310.87290</td>\n",
       "      <td>172.91881</td>\n",
       "      <td>34.92584</td>\n",
       "      <td>0.230229</td>\n",
       "      <td>.21377378</td>\n",
       "      <td>2.770128</td>\n",
       "    </tr>\n",
       "    <tr>\n",
       "      <th>3</th>\n",
       "      <td>00003</td>\n",
       "      <td>5.17</td>\n",
       "      <td>0.15</td>\n",
       "      <td>K239D</td>\n",
       "      <td>37.02310</td>\n",
       "      <td>247.73791</td>\n",
       "      <td>169.83920</td>\n",
       "      <td>12.99055</td>\n",
       "      <td>0.256213</td>\n",
       "      <td>.22600445</td>\n",
       "      <td>2.669263</td>\n",
       "    </tr>\n",
       "    <tr>\n",
       "      <th>4</th>\n",
       "      <td>00004</td>\n",
       "      <td>3.22</td>\n",
       "      <td>0.15</td>\n",
       "      <td>K239D</td>\n",
       "      <td>169.35183</td>\n",
       "      <td>151.66223</td>\n",
       "      <td>103.71002</td>\n",
       "      <td>7.14218</td>\n",
       "      <td>0.089449</td>\n",
       "      <td>.27152244</td>\n",
       "      <td>2.361922</td>\n",
       "    </tr>\n",
       "    <tr>\n",
       "      <th>5</th>\n",
       "      <td>00005</td>\n",
       "      <td>7.00</td>\n",
       "      <td>0.15</td>\n",
       "      <td>K239D</td>\n",
       "      <td>303.39802</td>\n",
       "      <td>359.13666</td>\n",
       "      <td>141.46909</td>\n",
       "      <td>5.35867</td>\n",
       "      <td>0.187439</td>\n",
       "      <td>.23826556</td>\n",
       "      <td>2.576886</td>\n",
       "    </tr>\n",
       "  </tbody>\n",
       "</table>\n",
       "</div>"
      ],
      "text/plain": [
       "   Des'n     H     G  Epoch          M      Peri.       Node     Incl.  \\\n",
       "1  00001  3.34  0.15  K239D   60.07879   73.42179   80.25496  10.58688   \n",
       "2  00002  4.12  0.15  K239D   40.59806  310.87290  172.91881  34.92584   \n",
       "3  00003  5.17  0.15  K239D   37.02310  247.73791  169.83920  12.99055   \n",
       "4  00004  3.22  0.15  K239D  169.35183  151.66223  103.71002   7.14218   \n",
       "5  00005  7.00  0.15  K239D  303.39802  359.13666  141.46909   5.35867   \n",
       "\n",
       "          e          n         a  \n",
       "1  0.078913  .21410680  2.767254  \n",
       "2  0.230229  .21377378  2.770128  \n",
       "3  0.256213  .22600445  2.669263  \n",
       "4  0.089449  .27152244  2.361922  \n",
       "5  0.187439  .23826556  2.576886  "
      ]
     },
     "execution_count": 6,
     "metadata": {},
     "output_type": "execute_result"
    }
   ],
   "source": [
    "# Read the table with the defined column specifications\n",
    "df = pd.read_fwf('MPCORB.DAT', colspecs=[[0,7], [8,14], [15,19], [20,25], [26,35], [36,46], [47, 57], [58,68], [69,81], [82, 91], [92, 103]])\n",
    "df = df[df['Epoch'] == 'K239D'] # take only ones at common epoch--almost all of them\n",
    "\n",
    "df.infer_objects()\n",
    "for c in ['a', 'e', 'Incl.', 'Node', 'Peri.', 'M']:\n",
    "    df[c] = pd.to_numeric(df[c])\n",
    "\n",
    "df.head()"
   ]
  },
  {
   "cell_type": "code",
   "execution_count": 7,
   "id": "90fbfddb-d8d8-4150-9a5b-8b5d23e56d97",
   "metadata": {},
   "outputs": [
    {
     "data": {
      "text/html": [
       "<div>\n",
       "<style scoped>\n",
       "    .dataframe tbody tr th:only-of-type {\n",
       "        vertical-align: middle;\n",
       "    }\n",
       "\n",
       "    .dataframe tbody tr th {\n",
       "        vertical-align: top;\n",
       "    }\n",
       "\n",
       "    .dataframe thead th {\n",
       "        text-align: right;\n",
       "    }\n",
       "</style>\n",
       "<table border=\"1\" class=\"dataframe\">\n",
       "  <thead>\n",
       "    <tr style=\"text-align: right;\">\n",
       "      <th></th>\n",
       "      <th>propa</th>\n",
       "      <th>da</th>\n",
       "      <th>prope</th>\n",
       "      <th>de</th>\n",
       "      <th>propsini</th>\n",
       "      <th>dsini</th>\n",
       "      <th>g</th>\n",
       "      <th>s</th>\n",
       "      <th>H</th>\n",
       "      <th>NumOpps</th>\n",
       "      <th>Des'n</th>\n",
       "    </tr>\n",
       "  </thead>\n",
       "  <tbody>\n",
       "    <tr>\n",
       "      <th>0</th>\n",
       "      <td>2.767028</td>\n",
       "      <td>2.300000e-05</td>\n",
       "      <td>0.115193</td>\n",
       "      <td>0.00016</td>\n",
       "      <td>0.167560</td>\n",
       "      <td>0.000013</td>\n",
       "      <td>54.253800</td>\n",
       "      <td>-59.249995</td>\n",
       "      <td>3.34</td>\n",
       "      <td>123</td>\n",
       "      <td>00001</td>\n",
       "    </tr>\n",
       "    <tr>\n",
       "      <th>1</th>\n",
       "      <td>2.771276</td>\n",
       "      <td>1.200000e-04</td>\n",
       "      <td>0.280234</td>\n",
       "      <td>0.00034</td>\n",
       "      <td>0.546016</td>\n",
       "      <td>0.000045</td>\n",
       "      <td>-1.372312</td>\n",
       "      <td>-46.451120</td>\n",
       "      <td>4.12</td>\n",
       "      <td>121</td>\n",
       "      <td>00002</td>\n",
       "    </tr>\n",
       "    <tr>\n",
       "      <th>2</th>\n",
       "      <td>2.669376</td>\n",
       "      <td>7.500000e-06</td>\n",
       "      <td>0.233600</td>\n",
       "      <td>0.00001</td>\n",
       "      <td>0.229144</td>\n",
       "      <td>0.000003</td>\n",
       "      <td>43.858531</td>\n",
       "      <td>-61.476025</td>\n",
       "      <td>5.17</td>\n",
       "      <td>114</td>\n",
       "      <td>00003</td>\n",
       "    </tr>\n",
       "    <tr>\n",
       "      <th>3</th>\n",
       "      <td>2.361512</td>\n",
       "      <td>5.900000e-08</td>\n",
       "      <td>0.099452</td>\n",
       "      <td>0.00014</td>\n",
       "      <td>0.111023</td>\n",
       "      <td>0.000180</td>\n",
       "      <td>36.882605</td>\n",
       "      <td>-39.610314</td>\n",
       "      <td>3.22</td>\n",
       "      <td>110</td>\n",
       "      <td>00004</td>\n",
       "    </tr>\n",
       "    <tr>\n",
       "      <th>4</th>\n",
       "      <td>2.577657</td>\n",
       "      <td>2.900000e-05</td>\n",
       "      <td>0.171249</td>\n",
       "      <td>0.01200</td>\n",
       "      <td>0.076113</td>\n",
       "      <td>0.001400</td>\n",
       "      <td>52.506470</td>\n",
       "      <td>-51.132322</td>\n",
       "      <td>7.00</td>\n",
       "      <td>87</td>\n",
       "      <td>00005</td>\n",
       "    </tr>\n",
       "  </tbody>\n",
       "</table>\n",
       "</div>"
      ],
      "text/plain": [
       "      propa            da     prope       de  propsini     dsini          g  \\\n",
       "0  2.767028  2.300000e-05  0.115193  0.00016  0.167560  0.000013  54.253800   \n",
       "1  2.771276  1.200000e-04  0.280234  0.00034  0.546016  0.000045  -1.372312   \n",
       "2  2.669376  7.500000e-06  0.233600  0.00001  0.229144  0.000003  43.858531   \n",
       "3  2.361512  5.900000e-08  0.099452  0.00014  0.111023  0.000180  36.882605   \n",
       "4  2.577657  2.900000e-05  0.171249  0.01200  0.076113  0.001400  52.506470   \n",
       "\n",
       "           s     H  NumOpps  Des'n  \n",
       "0 -59.249995  3.34      123  00001  \n",
       "1 -46.451120  4.12      121  00002  \n",
       "2 -61.476025  5.17      114  00003  \n",
       "3 -39.610314  3.22      110  00004  \n",
       "4 -51.132322  7.00       87  00005  "
      ]
     },
     "execution_count": 7,
     "metadata": {},
     "output_type": "execute_result"
    }
   ],
   "source": [
    "labels = pd.read_fwf('proper_catalog24.dat', colspecs=[[0,10], [10,18], [19,28], [29,37], [38, 46], [47,55], [56,66], [67,78], [79,85], [86, 89], [90, 97]], header=None, index_col=False, names=['propa', 'da', 'prope', 'de', 'propsini', 'dsini', 'g', 's', 'H', 'NumOpps', \"Des'n\"])\n",
    "labels.head()"
   ]
  },
  {
   "cell_type": "code",
   "execution_count": 8,
   "id": "cb4903ac-a919-441e-a93e-cf54b8b183fb",
   "metadata": {},
   "outputs": [
    {
     "data": {
      "text/plain": [
       "((1249051, 21), (1249051, 11))"
      ]
     },
     "execution_count": 8,
     "metadata": {},
     "output_type": "execute_result"
    }
   ],
   "source": [
    "merged_df = pd.merge(df, labels, on=\"Des'n\", how=\"inner\")\n",
    "merged_df.shape, labels.shape"
   ]
  },
  {
   "cell_type": "code",
   "execution_count": null,
   "id": "f7934ef6-8fd0-4ceb-a6ef-3721b637518f",
   "metadata": {},
   "outputs": [
    {
     "name": "stderr",
     "output_type": "stream",
     "text": [
      "/home/miniconda3/envs/kdey/lib/python3.12/site-packages/rebound/simulation.py:153: RuntimeWarning: Binary file was saved with a different version of REBOUND. Binary format might have changed.\n",
      "  warnings.warn(message, RuntimeWarning)\n"
     ]
    }
   ],
   "source": [
    "sim = rb.Simulation('planets.bin')\n",
    "# sim = rb.Simulation()\n",
    "# sim.add(\"Sun\")\n",
    "# sim.add(\"Jupiter\")\n",
    "# sim.add(\"Saturn\")\n",
    "# sim.add(\"Uranus\")\n",
    "# sim.add(\"Neptune\")\n",
    "\n",
    "# sim.move_to_com()"
   ]
  },
  {
   "cell_type": "code",
   "execution_count": 27,
   "id": "201cf95d-270d-4471-87cf-6bff4d8e2310",
   "metadata": {},
   "outputs": [
    {
     "data": {
      "text/plain": [
       "<rebound.plotting.OrbitPlot at 0x7fc3068f8140>"
      ]
     },
     "execution_count": 27,
     "metadata": {},
     "output_type": "execute_result"
    },
    {
     "data": {
      "image/png": "[encoded data removed]",
      "text/plain": [
       "<Figure size 500x500 with 1 Axes>"
      ]
     },
     "metadata": {},
     "output_type": "display_data"
    }
   ],
   "source": [
    "rb.OrbitPlot(sim)"
   ]
  },
  {
   "cell_type": "code",
   "execution_count": 28,
   "id": "dff3ddd5-b1f5-4bb5-9933-748fc3ad2ba6",
   "metadata": {},
   "outputs": [
    {
     "data": {
      "text/plain": [
       "Des'n           00001\n",
       "H_x              3.34\n",
       "G                0.15\n",
       "Epoch           K239D\n",
       "M            60.07879\n",
       "Peri.        73.42179\n",
       "Node         80.25496\n",
       "Incl.        10.58688\n",
       "e            0.078913\n",
       "n           .21410680\n",
       "a            2.767254\n",
       "propa        2.767028\n",
       "da           0.000023\n",
       "prope        0.115193\n",
       "de            0.00016\n",
       "propsini      0.16756\n",
       "dsini        0.000013\n",
       "g             54.2538\n",
       "s          -59.249995\n",
       "H_y              3.34\n",
       "NumOpps           123\n",
       "Name: 0, dtype: object"
      ]
     },
     "execution_count": 28,
     "metadata": {},
     "output_type": "execute_result"
    }
   ],
   "source": [
    "row = merged_df.iloc[0]\n",
    "row"
   ]
  },
  {
   "cell_type": "code",
   "execution_count": 29,
   "id": "cbdcbcb1-694c-49e7-8e03-46b59c3e59d4",
   "metadata": {},
   "outputs": [],
   "source": [
    "sim = rb.Simulation('planets.bin')\n",
    "sim.add(a=row['a'], e=row['e'], inc=row['Incl.'], Omega=row['Node'], omega=row['Peri.'], M=row['M'], primary=sim.particles[0])\n",
    "\n",
    "# sim = rb.Simulation()\n",
    "# sim.add(\"Sun\")\n",
    "# sim.add(\"Jupiter\")\n",
    "# sim.add(\"Saturn\")\n",
    "# sim.add(\"Uranus\")\n",
    "# sim.add(\"Neptune\")\n",
    "\n",
    "# sim.add(a=row['a'], e=row['e'], inc=row['Incl.'], Omega=row['Node'], omega=row['Peri.'], M=row['M'], primary=sim.particles[0])\n",
    "# sim.move_to_com()"
   ]
  },
  {
   "cell_type": "code",
   "execution_count": 31,
   "id": "97790675-c5df-4fcb-8f54-56f0bf196455",
   "metadata": {},
   "outputs": [
    {
     "data": {
      "text/plain": [
       "2.765701098386202"
      ]
     },
     "execution_count": 31,
     "metadata": {},
     "output_type": "execute_result"
    }
   ],
   "source": [
    "ps = sim.particles\n",
    "ps[-1].a"
   ]
  },
  {
   "cell_type": "code",
   "execution_count": 32,
   "id": "c868cab4-292b-4721-8988-34c053392032",
   "metadata": {},
   "outputs": [],
   "source": [
    "Nout = int(10000*np.pi)\n",
    "times = np.linspace(0, 5e6*ps[-1].P, Nout)\n",
    "sim.integrator='whfast'\n",
    "sim.dt = ps[1].P/20\n",
    "a = np.zeros(Nout)"
   ]
  },
  {
   "cell_type": "code",
   "execution_count": 33,
   "id": "f73c397c-1dc3-4617-87fc-9328de0163e1",
   "metadata": {},
   "outputs": [
    {
     "ename": "KeyboardInterrupt",
     "evalue": "",
     "output_type": "error",
     "traceback": [
      "\u001b[0;31m---------------------------------------------------------------------------\u001b[0m",
      "\u001b[0;31mKeyboardInterrupt\u001b[0m                         Traceback (most recent call last)",
      "File \u001b[0;32m<timed exec>:2\u001b[0m\n",
      "File \u001b[0;32m/home/miniconda3/envs/kdey/lib/python3.12/site-packages/rebound/simulation.py:1403\u001b[0m, in \u001b[0;36mSimulation.integrate\u001b[0;34m(self, tmax, exact_finish_time)\u001b[0m\n\u001b[1;32m   1401\u001b[0m     \u001b[38;5;28;01mpass\u001b[39;00m \u001b[38;5;66;03m# User caused exit. Do not raise error message\u001b[39;00m\n\u001b[1;32m   1402\u001b[0m \u001b[38;5;28;01mif\u001b[39;00m ret_value \u001b[38;5;241m==\u001b[39m \u001b[38;5;241m6\u001b[39m:\n\u001b[0;32m-> 1403\u001b[0m     \u001b[38;5;28;01mraise\u001b[39;00m \u001b[38;5;167;01mKeyboardInterrupt\u001b[39;00m\n\u001b[1;32m   1404\u001b[0m \u001b[38;5;28;01mif\u001b[39;00m ret_value \u001b[38;5;241m==\u001b[39m \u001b[38;5;241m7\u001b[39m:\n\u001b[1;32m   1405\u001b[0m     \u001b[38;5;28;01mraise\u001b[39;00m Collision(\u001b[38;5;124m\"\u001b[39m\u001b[38;5;124mTwo particles collided (d < r1+r2)\u001b[39m\u001b[38;5;124m\"\u001b[39m)\n",
      "\u001b[0;31mKeyboardInterrupt\u001b[0m: "
     ]
    }
   ],
   "source": [
    "%%time\n",
    "for i, time in enumerate(times):\n",
    "    sim.integrate(time)\n",
    "    orb = ps[-1].orbit(primary=sim.particles[0])\n",
    "    a[i] = orb.a"
   ]
  },
  {
   "cell_type": "code",
   "execution_count": 34,
   "id": "c33aab47-b0ef-4c8d-8129-3eb1dd39bb85",
   "metadata": {},
   "outputs": [
    {
     "data": {
      "text/plain": [
       "[<matplotlib.lines.Line2D at 0x7fc306a14d10>]"
      ]
     },
     "execution_count": 34,
     "metadata": {},
     "output_type": "execute_result"
    },
    {
     "data": {
      "image/png": "[encoded data removed]",
      "text/plain": [
       "<Figure size 640x480 with 1 Axes>"
      ]
     },
     "metadata": {},
     "output_type": "display_data"
    }
   ],
   "source": [
    "fig, ax = plt.subplots()\n",
    "ax.plot(times, a, '.')"
   ]
  },
  {
   "cell_type": "code",
   "execution_count": 34,
   "id": "97b89311-494d-4d1f-86e7-a4ed36ec3c4d",
   "metadata": {},
   "outputs": [
    {
     "data": {
      "text/plain": [
       "2.733319532407503"
      ]
     },
     "execution_count": 34,
     "metadata": {},
     "output_type": "execute_result"
    }
   ],
   "source": [
    "a.mean()\n"
   ]
  },
  {
   "cell_type": "code",
   "execution_count": 36,
   "id": "237773b7-994d-49f1-94c7-cc2c0963dd6a",
   "metadata": {},
   "outputs": [
    {
     "data": {
      "text/plain": [
       "2.767028"
      ]
     },
     "execution_count": 36,
     "metadata": {},
     "output_type": "execute_result"
    }
   ],
   "source": [
    "merged_df.iloc[0]['propa']"
   ]
  },
  {
   "cell_type": "code",
   "execution_count": null,
   "id": "30ea7bec-b99f-42f3-a374-17dd0e9e5eff",
   "metadata": {},
   "outputs": [],
   "source": []
  }
 ],
 "metadata": {
  "kernelspec": {
   "display_name": "kdey",
   "language": "python",
   "name": "python3"
  },
  "language_info": {
   "codemirror_mode": {
    "name": "ipython",
    "version": 3
   },
   "file_extension": ".py",
   "mimetype": "text/x-python",
   "name": "python",
   "nbconvert_exporter": "python",
   "pygments_lexer": "ipython3",
   "version": "3.12.8"
  }
 },
 "nbformat": 4,
 "nbformat_minor": 5
}
