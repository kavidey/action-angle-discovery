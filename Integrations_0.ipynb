{
 "cells": [
  {
   "cell_type": "markdown",
   "id": "3f5632ba",
   "metadata": {
    "papermill": {
     "duration": 0.00202,
     "end_time": "2025-05-20T16:50:42.793476",
     "exception": false,
     "start_time": "2025-05-20T16:50:42.791456",
     "status": "completed"
    },
    "tags": []
   },
   "source": [
    "## Imports"
   ]
  },
  {
   "cell_type": "code",
   "execution_count": 1,
   "id": "7252edf8-6233-4ebc-970f-d39ccecd0261",
   "metadata": {
    "execution": {
     "iopub.execute_input": "2025-05-20T16:50:42.804757Z",
     "iopub.status.busy": "2025-05-20T16:50:42.804539Z",
     "iopub.status.idle": "2025-05-20T16:50:43.492282Z",
     "shell.execute_reply": "2025-05-20T16:50:43.491888Z"
    },
    "papermill": {
     "duration": 0.690843,
     "end_time": "2025-05-20T16:50:43.493033",
     "exception": false,
     "start_time": "2025-05-20T16:50:42.802190",
     "status": "completed"
    },
    "tags": []
   },
   "outputs": [],
   "source": [
    "import numpy as np\n",
    "import matplotlib.pyplot as plt\n",
    "import pandas as pd\n",
    "\n",
    "import rebound as rb\n",
    "import celmech as cm\n",
    "from celmech.miscellaneous import frequency_modified_fourier_transform as fmft\n",
    "\n",
    "try:\n",
    "    plt.style.use('/Users/dtamayo/.matplotlib/paper.mplstyle')\n",
    "except:\n",
    "    pass"
   ]
  },
  {
   "cell_type": "markdown",
   "id": "2903746f",
   "metadata": {
    "papermill": {
     "duration": 0.008586,
     "end_time": "2025-05-20T16:50:43.503693",
     "exception": false,
     "start_time": "2025-05-20T16:50:43.495107",
     "status": "completed"
    },
    "tags": []
   },
   "source": [
    "## Load asteroid data and create simulation"
   ]
  },
  {
   "cell_type": "code",
   "execution_count": 2,
   "id": "3950e9ef-6e21-4c31-a208-24585a3fac8f",
   "metadata": {
    "execution": {
     "iopub.execute_input": "2025-05-20T16:50:43.507869Z",
     "iopub.status.busy": "2025-05-20T16:50:43.507672Z",
     "iopub.status.idle": "2025-05-20T16:50:55.671020Z",
     "shell.execute_reply": "2025-05-20T16:50:55.670591Z"
    },
    "papermill": {
     "duration": 12.16634,
     "end_time": "2025-05-20T16:50:55.671966",
     "exception": false,
     "start_time": "2025-05-20T16:50:43.505626",
     "status": "completed"
    },
    "tags": []
   },
   "outputs": [
    {
     "data": {
      "text/html": [
       "<div>\n",
       "<style scoped>\n",
       "    .dataframe tbody tr th:only-of-type {\n",
       "        vertical-align: middle;\n",
       "    }\n",
       "\n",
       "    .dataframe tbody tr th {\n",
       "        vertical-align: top;\n",
       "    }\n",
       "\n",
       "    .dataframe thead th {\n",
       "        text-align: right;\n",
       "    }\n",
       "</style>\n",
       "<table border=\"1\" class=\"dataframe\">\n",
       "  <thead>\n",
       "    <tr style=\"text-align: right;\">\n",
       "      <th></th>\n",
       "      <th>Des'n</th>\n",
       "      <th>H</th>\n",
       "      <th>G</th>\n",
       "      <th>Epoch</th>\n",
       "      <th>M</th>\n",
       "      <th>Peri.</th>\n",
       "      <th>Node</th>\n",
       "      <th>Incl.</th>\n",
       "      <th>e</th>\n",
       "      <th>n</th>\n",
       "      <th>a</th>\n",
       "    </tr>\n",
       "  </thead>\n",
       "  <tbody>\n",
       "    <tr>\n",
       "      <th>1</th>\n",
       "      <td>00001</td>\n",
       "      <td>3.34</td>\n",
       "      <td>0.15</td>\n",
       "      <td>K239D</td>\n",
       "      <td>60.07879</td>\n",
       "      <td>73.42179</td>\n",
       "      <td>80.25496</td>\n",
       "      <td>10.58688</td>\n",
       "      <td>0.078913</td>\n",
       "      <td>.21410680</td>\n",
       "      <td>2.767254</td>\n",
       "    </tr>\n",
       "    <tr>\n",
       "      <th>2</th>\n",
       "      <td>00002</td>\n",
       "      <td>4.12</td>\n",
       "      <td>0.15</td>\n",
       "      <td>K239D</td>\n",
       "      <td>40.59806</td>\n",
       "      <td>310.87290</td>\n",
       "      <td>172.91881</td>\n",
       "      <td>34.92584</td>\n",
       "      <td>0.230229</td>\n",
       "      <td>.21377378</td>\n",
       "      <td>2.770128</td>\n",
       "    </tr>\n",
       "    <tr>\n",
       "      <th>3</th>\n",
       "      <td>00003</td>\n",
       "      <td>5.17</td>\n",
       "      <td>0.15</td>\n",
       "      <td>K239D</td>\n",
       "      <td>37.02310</td>\n",
       "      <td>247.73791</td>\n",
       "      <td>169.83920</td>\n",
       "      <td>12.99055</td>\n",
       "      <td>0.256213</td>\n",
       "      <td>.22600445</td>\n",
       "      <td>2.669263</td>\n",
       "    </tr>\n",
       "    <tr>\n",
       "      <th>4</th>\n",
       "      <td>00004</td>\n",
       "      <td>3.22</td>\n",
       "      <td>0.15</td>\n",
       "      <td>K239D</td>\n",
       "      <td>169.35183</td>\n",
       "      <td>151.66223</td>\n",
       "      <td>103.71002</td>\n",
       "      <td>7.14218</td>\n",
       "      <td>0.089449</td>\n",
       "      <td>.27152244</td>\n",
       "      <td>2.361922</td>\n",
       "    </tr>\n",
       "    <tr>\n",
       "      <th>5</th>\n",
       "      <td>00005</td>\n",
       "      <td>7.00</td>\n",
       "      <td>0.15</td>\n",
       "      <td>K239D</td>\n",
       "      <td>303.39802</td>\n",
       "      <td>359.13666</td>\n",
       "      <td>141.46909</td>\n",
       "      <td>5.35867</td>\n",
       "      <td>0.187439</td>\n",
       "      <td>.23826556</td>\n",
       "      <td>2.576886</td>\n",
       "    </tr>\n",
       "  </tbody>\n",
       "</table>\n",
       "</div>"
      ],
      "text/plain": [
       "   Des'n     H     G  Epoch          M      Peri.       Node     Incl.  \\\n",
       "1  00001  3.34  0.15  K239D   60.07879   73.42179   80.25496  10.58688   \n",
       "2  00002  4.12  0.15  K239D   40.59806  310.87290  172.91881  34.92584   \n",
       "3  00003  5.17  0.15  K239D   37.02310  247.73791  169.83920  12.99055   \n",
       "4  00004  3.22  0.15  K239D  169.35183  151.66223  103.71002   7.14218   \n",
       "5  00005  7.00  0.15  K239D  303.39802  359.13666  141.46909   5.35867   \n",
       "\n",
       "          e          n         a  \n",
       "1  0.078913  .21410680  2.767254  \n",
       "2  0.230229  .21377378  2.770128  \n",
       "3  0.256213  .22600445  2.669263  \n",
       "4  0.089449  .27152244  2.361922  \n",
       "5  0.187439  .23826556  2.576886  "
      ]
     },
     "execution_count": 2,
     "metadata": {},
     "output_type": "execute_result"
    }
   ],
   "source": [
    "# Read the table with the defined column specifications\n",
    "df = pd.read_fwf('MPCORB.DAT', colspecs=[[0,7], [8,14], [15,19], [20,25], [26,35], [36,46], [47, 57], [58,68], [69,81], [82, 91], [92, 103]])\n",
    "df = df[df['Epoch'] == 'K239D'] # take only ones at common epoch--almost all of them\n",
    "\n",
    "df.infer_objects()\n",
    "for c in ['a', 'e', 'Incl.', 'Node', 'Peri.', 'M']:\n",
    "    df[c] = pd.to_numeric(df[c])\n",
    "\n",
    "df.head()"
   ]
  },
  {
   "cell_type": "code",
   "execution_count": 3,
   "id": "90fbfddb-d8d8-4150-9a5b-8b5d23e56d97",
   "metadata": {
    "execution": {
     "iopub.execute_input": "2025-05-20T16:50:55.685331Z",
     "iopub.status.busy": "2025-05-20T16:50:55.685225Z",
     "iopub.status.idle": "2025-05-20T16:51:05.533213Z",
     "shell.execute_reply": "2025-05-20T16:51:05.532784Z"
    },
    "papermill": {
     "duration": 9.857969,
     "end_time": "2025-05-20T16:51:05.534089",
     "exception": false,
     "start_time": "2025-05-20T16:50:55.676120",
     "status": "completed"
    },
    "tags": []
   },
   "outputs": [
    {
     "data": {
      "text/html": [
       "<div>\n",
       "<style scoped>\n",
       "    .dataframe tbody tr th:only-of-type {\n",
       "        vertical-align: middle;\n",
       "    }\n",
       "\n",
       "    .dataframe tbody tr th {\n",
       "        vertical-align: top;\n",
       "    }\n",
       "\n",
       "    .dataframe thead th {\n",
       "        text-align: right;\n",
       "    }\n",
       "</style>\n",
       "<table border=\"1\" class=\"dataframe\">\n",
       "  <thead>\n",
       "    <tr style=\"text-align: right;\">\n",
       "      <th></th>\n",
       "      <th>propa</th>\n",
       "      <th>da</th>\n",
       "      <th>prope</th>\n",
       "      <th>de</th>\n",
       "      <th>propsini</th>\n",
       "      <th>dsini</th>\n",
       "      <th>g</th>\n",
       "      <th>s</th>\n",
       "      <th>H</th>\n",
       "      <th>NumOpps</th>\n",
       "      <th>Des'n</th>\n",
       "    </tr>\n",
       "  </thead>\n",
       "  <tbody>\n",
       "    <tr>\n",
       "      <th>0</th>\n",
       "      <td>2.767028</td>\n",
       "      <td>2.300000e-05</td>\n",
       "      <td>0.115193</td>\n",
       "      <td>0.00016</td>\n",
       "      <td>0.167560</td>\n",
       "      <td>0.000013</td>\n",
       "      <td>54.253800</td>\n",
       "      <td>-59.249995</td>\n",
       "      <td>3.34</td>\n",
       "      <td>123</td>\n",
       "      <td>00001</td>\n",
       "    </tr>\n",
       "    <tr>\n",
       "      <th>1</th>\n",
       "      <td>2.771276</td>\n",
       "      <td>1.200000e-04</td>\n",
       "      <td>0.280234</td>\n",
       "      <td>0.00034</td>\n",
       "      <td>0.546016</td>\n",
       "      <td>0.000045</td>\n",
       "      <td>-1.372312</td>\n",
       "      <td>-46.451120</td>\n",
       "      <td>4.12</td>\n",
       "      <td>121</td>\n",
       "      <td>00002</td>\n",
       "    </tr>\n",
       "    <tr>\n",
       "      <th>2</th>\n",
       "      <td>2.669376</td>\n",
       "      <td>7.500000e-06</td>\n",
       "      <td>0.233600</td>\n",
       "      <td>0.00001</td>\n",
       "      <td>0.229144</td>\n",
       "      <td>0.000003</td>\n",
       "      <td>43.858531</td>\n",
       "      <td>-61.476025</td>\n",
       "      <td>5.17</td>\n",
       "      <td>114</td>\n",
       "      <td>00003</td>\n",
       "    </tr>\n",
       "    <tr>\n",
       "      <th>3</th>\n",
       "      <td>2.361512</td>\n",
       "      <td>5.900000e-08</td>\n",
       "      <td>0.099452</td>\n",
       "      <td>0.00014</td>\n",
       "      <td>0.111023</td>\n",
       "      <td>0.000180</td>\n",
       "      <td>36.882605</td>\n",
       "      <td>-39.610314</td>\n",
       "      <td>3.22</td>\n",
       "      <td>110</td>\n",
       "      <td>00004</td>\n",
       "    </tr>\n",
       "    <tr>\n",
       "      <th>4</th>\n",
       "      <td>2.577657</td>\n",
       "      <td>2.900000e-05</td>\n",
       "      <td>0.171249</td>\n",
       "      <td>0.01200</td>\n",
       "      <td>0.076113</td>\n",
       "      <td>0.001400</td>\n",
       "      <td>52.506470</td>\n",
       "      <td>-51.132322</td>\n",
       "      <td>7.00</td>\n",
       "      <td>87</td>\n",
       "      <td>00005</td>\n",
       "    </tr>\n",
       "  </tbody>\n",
       "</table>\n",
       "</div>"
      ],
      "text/plain": [
       "      propa            da     prope       de  propsini     dsini          g  \\\n",
       "0  2.767028  2.300000e-05  0.115193  0.00016  0.167560  0.000013  54.253800   \n",
       "1  2.771276  1.200000e-04  0.280234  0.00034  0.546016  0.000045  -1.372312   \n",
       "2  2.669376  7.500000e-06  0.233600  0.00001  0.229144  0.000003  43.858531   \n",
       "3  2.361512  5.900000e-08  0.099452  0.00014  0.111023  0.000180  36.882605   \n",
       "4  2.577657  2.900000e-05  0.171249  0.01200  0.076113  0.001400  52.506470   \n",
       "\n",
       "           s     H  NumOpps  Des'n  \n",
       "0 -59.249995  3.34      123  00001  \n",
       "1 -46.451120  4.12      121  00002  \n",
       "2 -61.476025  5.17      114  00003  \n",
       "3 -39.610314  3.22      110  00004  \n",
       "4 -51.132322  7.00       87  00005  "
      ]
     },
     "execution_count": 3,
     "metadata": {},
     "output_type": "execute_result"
    }
   ],
   "source": [
    "labels = pd.read_fwf('proper_catalog24.dat', colspecs=[[0,10], [10,18], [19,28], [29,37], [38, 46], [47,55], [56,66], [67,78], [79,85], [86, 89], [90, 97]], header=None, index_col=False, names=['propa', 'da', 'prope', 'de', 'propsini', 'dsini', 'g', 's', 'H', 'NumOpps', \"Des'n\"])\n",
    "labels.head()"
   ]
  },
  {
   "cell_type": "code",
   "execution_count": 4,
   "id": "cb4903ac-a919-441e-a93e-cf54b8b183fb",
   "metadata": {
    "execution": {
     "iopub.execute_input": "2025-05-20T16:51:05.547483Z",
     "iopub.status.busy": "2025-05-20T16:51:05.547379Z",
     "iopub.status.idle": "2025-05-20T16:51:06.728009Z",
     "shell.execute_reply": "2025-05-20T16:51:06.727585Z"
    },
    "papermill": {
     "duration": 1.19028,
     "end_time": "2025-05-20T16:51:06.728553",
     "exception": false,
     "start_time": "2025-05-20T16:51:05.538273",
     "status": "completed"
    },
    "tags": []
   },
   "outputs": [
    {
     "data": {
      "text/latex": [
       "$\\displaystyle \\left( \\left( 1249051, \\  21\\right), \\  \\left( 1249051, \\  11\\right)\\right)$"
      ],
      "text/plain": [
       "((1249051, 21), (1249051, 11))"
      ]
     },
     "execution_count": 4,
     "metadata": {},
     "output_type": "execute_result"
    }
   ],
   "source": [
    "merged_df = pd.merge(df, labels, on=\"Des'n\", how=\"inner\")\n",
    "merged_df.shape, labels.shape"
   ]
  },
  {
   "cell_type": "code",
   "execution_count": 5,
   "id": "f7934ef6-8fd0-4ceb-a6ef-3721b637518f",
   "metadata": {
    "execution": {
     "iopub.execute_input": "2025-05-20T16:51:06.739934Z",
     "iopub.status.busy": "2025-05-20T16:51:06.739808Z",
     "iopub.status.idle": "2025-05-20T16:51:06.742661Z",
     "shell.execute_reply": "2025-05-20T16:51:06.742333Z"
    },
    "papermill": {
     "duration": 0.0124,
     "end_time": "2025-05-20T16:51:06.743181",
     "exception": false,
     "start_time": "2025-05-20T16:51:06.730781",
     "status": "completed"
    },
    "tags": []
   },
   "outputs": [
    {
     "name": "stderr",
     "output_type": "stream",
     "text": [
      "/home/miniconda3/envs/kdey/lib/python3.12/site-packages/rebound/simulation.py:153: RuntimeWarning: Binary file was saved with a different version of REBOUND. Binary format might have changed.\n",
      "  warnings.warn(message, RuntimeWarning)\n"
     ]
    }
   ],
   "source": [
    "sim = rb.Simulation('planets.bin')\n",
    "# sim = rb.Simulation()\n",
    "# date = \"2023-09-13 12:00\"\n",
    "# sim.add(\"Sun\", date=date)\n",
    "# sim.add(\"Jupiter\", date=date)\n",
    "# sim.add(\"Saturn\", date=date)\n",
    "# sim.add(\"Uranus\", date=date)\n",
    "# sim.add(\"Neptune\", date=date)"
   ]
  },
  {
   "cell_type": "code",
   "execution_count": 6,
   "id": "201cf95d-270d-4471-87cf-6bff4d8e2310",
   "metadata": {
    "execution": {
     "iopub.execute_input": "2025-05-20T16:51:06.747758Z",
     "iopub.status.busy": "2025-05-20T16:51:06.747643Z",
     "iopub.status.idle": "2025-05-20T16:51:06.894127Z",
     "shell.execute_reply": "2025-05-20T16:51:06.893785Z"
    },
    "papermill": {
     "duration": 0.1494,
     "end_time": "2025-05-20T16:51:06.894658",
     "exception": false,
     "start_time": "2025-05-20T16:51:06.745258",
     "status": "completed"
    },
    "tags": []
   },
   "outputs": [
    {
     "data": {
      "text/plain": [
       "<rebound.plotting.OrbitPlot at 0x7f3a223b1ca0>"
      ]
     },
     "execution_count": 6,
     "metadata": {},
     "output_type": "execute_result"
    },
    {
     "data": {
      "image/png": "[encoded data removed]",
      "text/plain": [
       "<Figure size 500x500 with 1 Axes>"
      ]
     },
     "metadata": {},
     "output_type": "display_data"
    }
   ],
   "source": [
    "rb.OrbitPlot(sim)"
   ]
  },
  {
   "cell_type": "code",
   "execution_count": 7,
   "id": "dff3ddd5-b1f5-4bb5-9933-748fc3ad2ba6",
   "metadata": {
    "execution": {
     "iopub.execute_input": "2025-05-20T16:51:06.899986Z",
     "iopub.status.busy": "2025-05-20T16:51:06.899861Z",
     "iopub.status.idle": "2025-05-20T16:51:06.903269Z",
     "shell.execute_reply": "2025-05-20T16:51:06.902955Z"
    },
    "papermill": {
     "duration": 0.006694,
     "end_time": "2025-05-20T16:51:06.903776",
     "exception": false,
     "start_time": "2025-05-20T16:51:06.897082",
     "status": "completed"
    },
    "tags": []
   },
   "outputs": [
    {
     "data": {
      "text/plain": [
       "Des'n           00001\n",
       "H_x              3.34\n",
       "G                0.15\n",
       "Epoch           K239D\n",
       "M            60.07879\n",
       "Peri.        73.42179\n",
       "Node         80.25496\n",
       "Incl.        10.58688\n",
       "e            0.078913\n",
       "n           .21410680\n",
       "a            2.767254\n",
       "propa        2.767028\n",
       "da           0.000023\n",
       "prope        0.115193\n",
       "de            0.00016\n",
       "propsini      0.16756\n",
       "dsini        0.000013\n",
       "g             54.2538\n",
       "s          -59.249995\n",
       "H_y              3.34\n",
       "NumOpps           123\n",
       "Name: 0, dtype: object"
      ]
     },
     "execution_count": 7,
     "metadata": {},
     "output_type": "execute_result"
    }
   ],
   "source": [
    "asteroid_num = 0\n",
    "row = merged_df.iloc[asteroid_num]\n",
    "row"
   ]
  },
  {
   "cell_type": "code",
   "execution_count": 8,
   "id": "cbdcbcb1-694c-49e7-8e03-46b59c3e59d4",
   "metadata": {
    "execution": {
     "iopub.execute_input": "2025-05-20T16:51:06.909104Z",
     "iopub.status.busy": "2025-05-20T16:51:06.908985Z",
     "iopub.status.idle": "2025-05-20T16:51:07.160286Z",
     "shell.execute_reply": "2025-05-20T16:51:07.159945Z"
    },
    "papermill": {
     "duration": 0.254683,
     "end_time": "2025-05-20T16:51:07.160864",
     "exception": false,
     "start_time": "2025-05-20T16:51:06.906181",
     "status": "completed"
    },
    "tags": []
   },
   "outputs": [
    {
     "data": {
      "text/latex": [
       "$\\displaystyle 2.7655732399566$"
      ],
      "text/plain": [
       "2.7655732399565967"
      ]
     },
     "execution_count": 8,
     "metadata": {},
     "output_type": "execute_result"
    },
    {
     "name": "stderr",
     "output_type": "stream",
     "text": [
      "Ignoring fixed y limits to fulfill fixed data aspect with adjustable data limits.\n"
     ]
    },
    {
     "name": "stderr",
     "output_type": "stream",
     "text": [
      "Ignoring fixed x limits to fulfill fixed data aspect with adjustable data limits.\n"
     ]
    },
    {
     "data": {
      "image/png": "[encoded data removed]",
      "text/plain": [
       "<Figure size 500x800 with 3 Axes>"
      ]
     },
     "metadata": {},
     "output_type": "display_data"
    }
   ],
   "source": [
    "sim = rb.Simulation('planets.bin')\n",
    "sim.add(a=row['a'], e=row['e'], inc=row['Incl.'], Omega=row['Node'], omega=row['Peri.'], M=row['M'], primary=sim.particles[0])\n",
    "\n",
    "# sim = rb.Simulation()\n",
    "# sim.add(\"Sun\", date=date)\n",
    "# sim.add(\"Jupiter\", date=date)\n",
    "# sim.add(\"Saturn\", date=date)\n",
    "# sim.add(\"Uranus\", date=date)\n",
    "# sim.add(\"Neptune\", date=date)\n",
    "\n",
    "# sim.add(a=row['a'], e=row['e'], inc=row['Incl.']*np.pi/180, Omega=row['Node']*np.pi/180, omega=row['Peri.']*np.pi/180, M=row['M'], primary=sim.particles[0])\n",
    "# sim.move_to_com()\n",
    "\n",
    "rb.OrbitPlotSet(sim)\n",
    "\n",
    "ps = sim.particles\n",
    "ps[-1].a"
   ]
  },
  {
   "cell_type": "code",
   "execution_count": 9,
   "id": "f73c397c-1dc3-4617-87fc-9328de0163e1",
   "metadata": {
    "execution": {
     "iopub.execute_input": "2025-05-20T16:51:07.173025Z",
     "iopub.status.busy": "2025-05-20T16:51:07.172899Z",
     "iopub.status.idle": "2025-05-20T17:50:22.319232Z",
     "shell.execute_reply": "2025-05-20T17:50:22.318689Z"
    },
    "papermill": {
     "duration": 3555.161227,
     "end_time": "2025-05-20T17:50:22.324919",
     "exception": false,
     "start_time": "2025-05-20T16:51:07.163692",
     "status": "completed"
    },
    "tags": []
   },
   "outputs": [
    {
     "name": "stdout",
     "output_type": "stream",
     "text": [
      "CPU times: user 58min 57s, sys: 14.4 s, total: 59min 11s\n",
      "Wall time: 59min 15s\n"
     ]
    }
   ],
   "source": [
    "%%time\n",
    "\n",
    "sim.integrator='whfast'\n",
    "sim.dt = ps[1].P/100.\n",
    "sim.ri_whfast.safe_mode = 0\n",
    "\n",
    "Tfin_approx = 1.5e6*ps[-1].P\n",
    "total_steps = np.ceil(Tfin_approx / sim.dt)\n",
    "Tfin = total_steps * sim.dt + sim.dt\n",
    "Nout = 262144\n",
    "\n",
    "sim.save_to_file(f\"asteroid_integration_{asteroid_num}.sa\", step=int(np.floor(total_steps/Nout)), delete_file=True)\n",
    "sim.integrate(Tfin, exact_finish_time=0)"
   ]
  },
  {
   "cell_type": "code",
   "execution_count": 10,
   "id": "e8e2ad29",
   "metadata": {
    "execution": {
     "iopub.execute_input": "2025-05-20T17:50:22.339344Z",
     "iopub.status.busy": "2025-05-20T17:50:22.339216Z",
     "iopub.status.idle": "2025-05-20T17:50:59.868017Z",
     "shell.execute_reply": "2025-05-20T17:50:59.867518Z"
    },
    "papermill": {
     "duration": 37.535584,
     "end_time": "2025-05-20T17:50:59.868938",
     "exception": false,
     "start_time": "2025-05-20T17:50:22.333354",
     "status": "completed"
    },
    "tags": []
   },
   "outputs": [
    {
     "name": "stderr",
     "output_type": "stream",
     "text": [
      "/home/miniconda3/envs/kdey/lib/python3.12/site-packages/rebound/simulationarchive.py:152: RuntimeWarning: The simulation might not be synchronized. You can manually synchronize it by calling sim.integrator_synchronize().\n",
      "  warnings.warn(\"The simulation might not be synchronized. You can manually synchronize it by calling sim.integrator_synchronize().\", RuntimeWarning)\n"
     ]
    },
    {
     "data": {
      "text/plain": [
       "<rebound.plotting.OrbitPlotSet at 0x7f3a224b79e0>"
      ]
     },
     "execution_count": 10,
     "metadata": {},
     "output_type": "execute_result"
    },
    {
     "name": "stderr",
     "output_type": "stream",
     "text": [
      "Ignoring fixed y limits to fulfill fixed data aspect with adjustable data limits.\n"
     ]
    },
    {
     "name": "stderr",
     "output_type": "stream",
     "text": [
      "Ignoring fixed x limits to fulfill fixed data aspect with adjustable data limits.\n"
     ]
    },
    {
     "data": {
      "image/png": "[encoded data removed]",
      "text/plain": [
       "<Figure size 500x800 with 3 Axes>"
      ]
     },
     "metadata": {},
     "output_type": "display_data"
    }
   ],
   "source": [
    "results = cm.nbody_simulation_utilities.get_simarchive_integration_results(f\"asteroid_integration_{asteroid_num}.sa\",coordinates='heliocentric')\n",
    "rb.OrbitPlotSet(sim)"
   ]
  },
  {
   "cell_type": "code",
   "execution_count": 11,
   "id": "c33aab47-b0ef-4c8d-8129-3eb1dd39bb85",
   "metadata": {
    "execution": {
     "iopub.execute_input": "2025-05-20T17:50:59.884580Z",
     "iopub.status.busy": "2025-05-20T17:50:59.884469Z",
     "iopub.status.idle": "2025-05-20T17:51:00.262363Z",
     "shell.execute_reply": "2025-05-20T17:51:00.261857Z"
    },
    "papermill": {
     "duration": 0.388186,
     "end_time": "2025-05-20T17:51:00.263255",
     "exception": false,
     "start_time": "2025-05-20T17:50:59.875069",
     "status": "completed"
    },
    "tags": []
   },
   "outputs": [
    {
     "data": {
      "text/latex": [
       "$\\displaystyle \\left( -190.322119396704, \\  2.767028\\right)$"
      ],
      "text/plain": [
       "(-190.32211939670435, 2.767028)"
      ]
     },
     "execution_count": 11,
     "metadata": {},
     "output_type": "execute_result"
    },
    {
     "data": {
      "image/png": "[encoded data removed]",
      "text/plain": [
       "<Figure size 640x480 with 1 Axes>"
      ]
     },
     "metadata": {},
     "output_type": "display_data"
    }
   ],
   "source": [
    "fig, ax = plt.subplots()\n",
    "ax.plot(results['time'], results['a'][-1], '.')\n",
    "\n",
    "results['a'][-1].mean(), merged_df.iloc[asteroid_num]['propa']"
   ]
  },
  {
   "cell_type": "markdown",
   "id": "534e086e",
   "metadata": {
    "papermill": {
     "duration": 0.008925,
     "end_time": "2025-05-20T17:51:00.278593",
     "exception": false,
     "start_time": "2025-05-20T17:51:00.269668",
     "status": "completed"
    },
    "tags": []
   },
   "source": [
    "## Calculate frequencies of planets and asteroid"
   ]
  },
  {
   "cell_type": "code",
   "execution_count": 12,
   "id": "0fdcf2cf",
   "metadata": {
    "execution": {
     "iopub.execute_input": "2025-05-20T17:51:00.291553Z",
     "iopub.status.busy": "2025-05-20T17:51:00.291422Z",
     "iopub.status.idle": "2025-05-20T17:51:00.294129Z",
     "shell.execute_reply": "2025-05-20T17:51:00.293749Z"
    },
    "papermill": {
     "duration": 0.010146,
     "end_time": "2025-05-20T17:51:00.294934",
     "exception": false,
     "start_time": "2025-05-20T17:51:00.284788",
     "status": "completed"
    },
    "tags": []
   },
   "outputs": [],
   "source": [
    "def closest_key_entry(d, target):\n",
    "    \"\"\"\n",
    "    Given a dictionary `d` with float keys and a target float `target`,\n",
    "    returns a tuple (key, value) where the key is the one in `d`\n",
    "    closest to `target`.\n",
    "\n",
    "    Parameters\n",
    "    ----------\n",
    "    d : dict\n",
    "        Dictionary with float keys.\n",
    "    target : float\n",
    "        The float to compare keys against.\n",
    "\n",
    "    Returns\n",
    "    -------\n",
    "    tuple\n",
    "        The (key, value) pair whose key is closest to `target`.\n",
    "    \"\"\"\n",
    "    closest_key = min(d.keys(), key=lambda k: abs(k - target))\n",
    "    return closest_key, d[closest_key]"
   ]
  },
  {
   "cell_type": "code",
   "execution_count": 13,
   "id": "b94e829b",
   "metadata": {
    "execution": {
     "iopub.execute_input": "2025-05-20T17:51:00.308032Z",
     "iopub.status.busy": "2025-05-20T17:51:00.307913Z",
     "iopub.status.idle": "2025-05-20T17:51:00.483896Z",
     "shell.execute_reply": "2025-05-20T17:51:00.483329Z"
    },
    "papermill": {
     "duration": 0.183472,
     "end_time": "2025-05-20T17:51:00.484684",
     "exception": false,
     "start_time": "2025-05-20T17:51:00.301212",
     "status": "completed"
    },
    "tags": []
   },
   "outputs": [
    {
     "name": "stderr",
     "output_type": "stream",
     "text": [
      "/tmp/ipykernel_44706/1121272739.py:1: RuntimeWarning: invalid value encountered in sqrt\n",
      "  results['X'] = np.sqrt(2*(1-np.sqrt(1-results['e']**2))) * np.exp(1j * results['pomega'])\n",
      "/tmp/ipykernel_44706/1121272739.py:2: RuntimeWarning: invalid value encountered in power\n",
      "  results['Y'] = (1-results['e']**2)**(0.25) * np.sin(0.5 * results['inc'] )* np.exp(1j * results['Omega'])\n"
     ]
    }
   ],
   "source": [
    "results['X'] = np.sqrt(2*(1-np.sqrt(1-results['e']**2))) * np.exp(1j * results['pomega'])\n",
    "results['Y'] = (1-results['e']**2)**(0.25) * np.sin(0.5 * results['inc'] )* np.exp(1j * results['Omega'])"
   ]
  },
  {
   "cell_type": "code",
   "execution_count": null,
   "id": "13990886",
   "metadata": {
    "papermill": {
     "duration": null,
     "end_time": null,
     "exception": false,
     "start_time": "2025-05-20T17:51:00.491202",
     "status": "running"
    },
    "tags": []
   },
   "outputs": [],
   "source": [
    "planets = (\"Jupiter\",\"Saturn\",\"Uranus\",\"Neptune\", \"Asteroid\")\n",
    "ecc_fmft_results = dict()\n",
    "inc_fmft_results = dict()\n",
    "for i,pl in enumerate(planets):\n",
    "    ecc_fmft_results[pl] = fmft(results['time'],results['X'][i],14)\n",
    "    planet_e_freqs = np.array(list(ecc_fmft_results[pl].keys()))\n",
    "    planet_e_freqs_arcsec_per_yr = planet_e_freqs * 60*60*180/np.pi * (2*np.pi)\n",
    "\n",
    "    inc_fmft_results[pl] = fmft(results['time'],results['Y'][i],8)\n",
    "    planet_inc_freqs = np.array(list(inc_fmft_results[pl].keys()))\n",
    "    planet_inc_freqs_arcsec_per_yr = planet_inc_freqs * 60*60*180/np.pi * (2*np.pi)\n",
    "\n",
    "    print(\"\")\n",
    "    print(pl)\n",
    "    print(\"g\")\n",
    "    print(\"-------\")\n",
    "    for g in planet_e_freqs[:6]:\n",
    "        print(\"{:+07.3f} \\t {:0.6f}\".format(g * 60 * 60 * 180 / np.pi * (2 * np.pi), np.abs(ecc_fmft_results[pl][g])))\n",
    "    print(\"s\")\n",
    "    print(\"-------\")\n",
    "    for g in planet_inc_freqs[:4]:\n",
    "        print(\"{:+07.3f} \\t {:0.6f}\".format(g * 60 * 60 * 180 / np.pi * (2 * np.pi), np.abs(inc_fmft_results[pl][g])))"
   ]
  },
  {
   "cell_type": "code",
   "execution_count": null,
   "id": "58cc655d",
   "metadata": {
    "papermill": {
     "duration": null,
     "end_time": null,
     "exception": null,
     "start_time": null,
     "status": "pending"
    },
    "tags": []
   },
   "outputs": [],
   "source": [
    "fig,ax = plt.subplots(sim.N-1,2,sharex=True,figsize=(10,10))\n",
    "Xsolns = []\n",
    "Ysolns = []\n",
    "for i,pl in enumerate(planets):\n",
    "    freq_amp_dict = ecc_fmft_results[pl]\n",
    "    ax[i,0].plot(results['time'],np.real(results['X'][i]))\n",
    "    zsoln = np.sum([amp * np.exp(1j*freq*results['time']) for freq,amp in freq_amp_dict.items()],axis=0)\n",
    "    ax[i,0].plot(results['time'],np.real(zsoln),'k--')\n",
    "\n",
    "    freq_amp_dict = inc_fmft_results[pl]\n",
    "    Ysolns.append(freq_amp_dict)\n",
    "    ax[i,1].plot(results['time'],np.real(results['Y'][i]))\n",
    "    zsoln = np.sum([amp * np.exp(1j*freq*results['time']) for freq,amp in freq_amp_dict.items()],axis=0)\n",
    "    ax[i,1].plot(results['time'],np.real(zsoln),'k--')\n",
    "plt.xlim(0,1e7)\n",
    "plt.show()"
   ]
  },
  {
   "cell_type": "code",
   "execution_count": null,
   "id": "625865dd",
   "metadata": {
    "papermill": {
     "duration": null,
     "end_time": null,
     "exception": null,
     "start_time": null,
     "status": "pending"
    },
    "tags": []
   },
   "outputs": [],
   "source": [
    "ARCSEC_PER_YR = 1/(180*60*60*2)\n",
    "g_vec = np.zeros(4)\n",
    "s_vec = np.zeros(3)\n",
    "\n",
    "g_vec[:3] = np.array(list(ecc_fmft_results['Jupiter'].keys()))[:3]\n",
    "g_vec[3] = list(ecc_fmft_results['Neptune'].keys())[0]\n",
    "s_vec[0] = list(inc_fmft_results['Jupiter'].keys())[0]\n",
    "s_vec[1] = list(inc_fmft_results['Jupiter'].keys())[2]\n",
    "s_vec[2] = list(inc_fmft_results['Jupiter'].keys())[1]\n",
    "omega_vec = np.concatenate((g_vec,s_vec))\n",
    "g_and_s_arc_sec_per_yr = omega_vec / ARCSEC_PER_YR\n",
    "g_and_s_arc_sec_per_yr"
   ]
  },
  {
   "cell_type": "code",
   "execution_count": null,
   "id": "b879e5ba",
   "metadata": {
    "papermill": {
     "duration": null,
     "end_time": null,
     "exception": null,
     "start_time": null,
     "status": "pending"
    },
    "tags": []
   },
   "outputs": [],
   "source": [
    "eye_N = np.eye(omega_vec.size,dtype = int)\n",
    "x_dicts = []\n",
    "for pl in planets:\n",
    "    print(pl)    \n",
    "    print(\"-\"*len(pl))\n",
    "    print(\"kvec \\t\\t\\t omega \\t err. \\t amplitude\")\n",
    "    x_dict = {}\n",
    "    for i,omega_i in enumerate(omega_vec[:4]):\n",
    "        omega_N,amp = closest_key_entry(ecc_fmft_results[pl],omega_vec[i])\n",
    "        omega_error = np.abs(omega_N/omega_i-1)\n",
    "        if omega_error<0.001:\n",
    "            print (eye_N[i],\"\\t{:+07.3f}\\t{:.1g} \\t{:.1g}\".format(omega_i/ARCSEC_PER_YR,omega_error,np.abs(amp)))\n",
    "            x_dict[tuple(eye_N[i])] = amp\n",
    "    #NL terms\n",
    "    for a in range(7):\n",
    "        for b in range(a,7):\n",
    "            for c in range(7):\n",
    "                if c==a:\n",
    "                    continue\n",
    "                if c==b:\n",
    "                    continue\n",
    "                k = np.zeros(7,dtype = int)\n",
    "                k[a] +=1\n",
    "                k[b] +=1\n",
    "                k[c] -=1\n",
    "                omega=k@omega_vec\n",
    "                omega_N,amp = closest_key_entry(ecc_fmft_results[pl],omega)\n",
    "                omega_error = np.abs(omega_N/omega-1)\n",
    "                if omega_error<0.001:\n",
    "                    print (k,\"\\t{:+07.3f}\\t{:.1g},\\t{:.1g}\".format(omega/ARCSEC_PER_YR,omega_error,np.abs(amp)))\n",
    "                    x_dict[tuple(k)] = amp\n",
    "    x_dicts.append(x_dict)"
   ]
  },
  {
   "cell_type": "code",
   "execution_count": null,
   "id": "f07862c5",
   "metadata": {
    "papermill": {
     "duration": null,
     "end_time": null,
     "exception": null,
     "start_time": null,
     "status": "pending"
    },
    "tags": []
   },
   "outputs": [],
   "source": [
    "fig,ax = plt.subplots(sim.N-1,2,sharex=True,figsize=(10,10))\n",
    "Xsolns = []\n",
    "Ysolns = []\n",
    "for i,pl in enumerate(planets):\n",
    "    freq_amp_dict = ecc_fmft_results[pl]\n",
    "    ax[i,0].plot(results['time'],np.real(results['X'][i]))\n",
    "    zsoln = np.sum([np.abs(amp) * np.exp(1j*((np.array(k)@omega_vec)*results['time'] + + np.angle(amp))) for k,amp in x_dicts[i].items()],axis=0)\n",
    "    ax[i,0].plot(results['time'],np.real(zsoln),'k--')\n",
    "plt.xlim(0,1e7) \n",
    "plt.show()"
   ]
  },
  {
   "cell_type": "code",
   "execution_count": null,
   "id": "c6cae376",
   "metadata": {
    "papermill": {
     "duration": null,
     "end_time": null,
     "exception": null,
     "start_time": null,
     "status": "pending"
    },
    "tags": []
   },
   "outputs": [],
   "source": [
    "freq_amp_dict = ecc_fmft_results['Asteroid']\n",
    "zsoln = np.sum([np.abs(amp) * np.exp(1j*((np.array(k)@omega_vec)*results['time'] + + np.angle(amp))) for k,amp in x_dicts[-1].items()],axis=0)\n",
    "soln_wo_planets = results['X'][i] - zsoln\n",
    "plt.plot(results['time'], np.real(soln_wo_planets))"
   ]
  },
  {
   "cell_type": "code",
   "execution_count": null,
   "id": "86bf4cf9",
   "metadata": {
    "papermill": {
     "duration": null,
     "end_time": null,
     "exception": null,
     "start_time": null,
     "status": "pending"
    },
    "tags": []
   },
   "outputs": [],
   "source": [
    "ecc_fmft_result = fmft(results['time'], soln_wo_planets, 14)\n",
    "\n",
    "asteroid_e_freqs = np.array(list(ecc_fmft_result.keys()))\n",
    "asteroid_e_freqs_arcsec_per_yr = asteroid_e_freqs * 60*60*180/np.pi * (2*np.pi)\n",
    "\n",
    "print(\"\")\n",
    "print(pl)\n",
    "print(\"g\")\n",
    "print(\"-------\")\n",
    "for g in asteroid_e_freqs[:6]:\n",
    "    print(\"{:+07.3f} \\t {:0.6f}\".format(g * 60 * 60 * 180 / np.pi * (2 * np.pi), np.abs(ecc_fmft_result[g])))"
   ]
  },
  {
   "cell_type": "code",
   "execution_count": null,
   "id": "dcd0856e",
   "metadata": {
    "papermill": {
     "duration": null,
     "end_time": null,
     "exception": null,
     "start_time": null,
     "status": "pending"
    },
    "tags": []
   },
   "outputs": [],
   "source": []
  }
 ],
 "metadata": {
  "kernelspec": {
   "display_name": "kdey",
   "language": "python",
   "name": "python3"
  },
  "language_info": {
   "codemirror_mode": {
    "name": "ipython",
    "version": 3
   },
   "file_extension": ".py",
   "mimetype": "text/x-python",
   "name": "python",
   "nbconvert_exporter": "python",
   "pygments_lexer": "ipython3",
   "version": "3.12.8"
  },
  "papermill": {
   "default_parameters": {},
   "duration": null,
   "end_time": null,
   "environment_variables": {},
   "exception": null,
   "input_path": "Integrations.ipynb",
   "output_path": "Integrations_0.ipynb",
   "parameters": {},
   "start_time": "2025-05-20T16:50:42.130250",
   "version": "2.6.0"
  }
 },
 "nbformat": 4,
 "nbformat_minor": 5
}