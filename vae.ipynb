{
 "cells": [
  {
   "cell_type": "code",
   "execution_count": 10,
   "metadata": {},
   "outputs": [],
   "source": [
    "import tqdm\n",
    "from pathlib import Path\n",
    "\n",
    "import torch\n",
    "from torch import nn\n",
    "import torch.optim as optim\n",
    "from torch.nn import functional as F\n",
    "\n",
    "import numpy as np\n",
    "import matplotlib.pyplot as plt\n",
    "\n",
    "device = torch.device(\"cuda\" if torch.cuda.is_available() else \"mps\" if torch.backends.mps.is_available() else \"cpu\")"
   ]
  },
  {
   "cell_type": "code",
   "execution_count": null,
   "metadata": {},
   "outputs": [],
   "source": [
    "model_dir = Path(\"models\") / \"vae\"\n",
    "dataset_dir = Path(\"dataset\")\n",
    "\n",
    "config = {\n",
    "    'epochs': 10,\n",
    "    'lr': 1e-2,\n",
    "    'batch_size': 32,\n",
    "    'kl_weight': 0.1,\n",
    "    'aa_weight': 0.1,\n",
    "    'dim': 1\n",
    "}"
   ]
  },
  {
   "cell_type": "code",
   "execution_count": null,
   "metadata": {},
   "outputs": [],
   "source": [
    "torch.manual_seed(42)\n",
    "\n",
    "train_loader = torch.utils.data.DataLoader(train_dset, batch_size=config['batch_size'])\n",
    "test_loader = torch.utils.data.DataLoader(train_dset, batch_size=config['batch_size'])"
   ]
  },
  {
   "cell_type": "code",
   "execution_count": null,
   "metadata": {},
   "outputs": [],
   "source": [
    "# VAE code modified from: https://github.com/AntixK/PyTorch-VAE/blob/master/models/vanilla_vae.py\n",
    "class Encoder:\n",
    "    def __init__(self, dim: int, layers: int):\n",
    "        self.dim = dim\n",
    "        self.num_layers = layers\n",
    "\n",
    "        modules = []\n",
    "        for _ in range(self.num_layers):\n",
    "            modules.append(nn.Linear(self.dim, self.dim))\n",
    "        \n",
    "        self.layers = nn.Sequential(*modules)\n",
    "\n",
    "        self.fc_mu = nn.Linear(self.dim, self.dim)\n",
    "        self.fc_var = nn.Linear(self.dim, self.dim)\n",
    "    \n",
    "    def forward(self, x):\n",
    "        x = self.layers(x)\n",
    "\n",
    "        mu = self.fc_mu(x)\n",
    "        logvar = self.fc_var(x)\n",
    "\n",
    "        return mu, logvar\n",
    "\n",
    "class Decoder:\n",
    "    def __init__(self, dim: int, layers: int):\n",
    "        self.dim = dim\n",
    "        self.num_layers = layers\n",
    "\n",
    "        modules = []\n",
    "        for _ in range(self.num_layers):\n",
    "            modules.append(nn.Linear(self.dim, self.dim))\n",
    "        \n",
    "        self.layers = nn.Sequential(*modules)\n",
    "\n",
    "class ActionAngleVAE:\n",
    "    def __init__(self, layers: int, dim: int, dt: float, n):\n",
    "        self.num_layers = layers\n",
    "        \n",
    "        # Dimension of the problem (eg 1 for SHO)\n",
    "        self.dim = dim\n",
    "        # Integration timestep\n",
    "        self.dt = dt\n",
    "        # Integration timesteps\n",
    "        self.n = n\n",
    "\n",
    "        self.encoder = Encoder(self.dim*2, self.num_layers)\n",
    "        self.decoder = Decoder(self.dim*2, self.num_layers)\n",
    "    \n",
    "    def reparameterize(self, mu: torch.Tensor, logvar: torch.Tensor) -> torch.Tensor:\n",
    "        std = torch.exp(0.5 * logvar)\n",
    "        eps = torch.randn_like(std)\n",
    "        return eps * std + mu\n",
    "    \n",
    "    def forward(self, x):\n",
    "        # x is a tensor of shape [batch, n, dim*2]\n",
    "        mu, logvar = self.encoder(x)\n",
    "\n",
    "\n",
    "        J = z[:, :, :self.dim]\n",
    "        phi_dot = z[:, :, self.dim:]\n",
    "        \n",
    "        phi = torch.zeros_like(phi_dot)\n",
    "        for i in range(1, self.n):\n",
    "            phi[:,i] + phi_dot[:,i] * self.dt\n",
    "        \n",
    "        z = self.reparameterize(torch.stack(J, phi), logvar)\n",
    "\n",
    "        return self.decoder(z), mu, logvar, phi"
   ]
  },
  {
   "cell_type": "code",
   "execution_count": null,
   "metadata": {},
   "outputs": [],
   "source": [
    "def loss_fn(recon, mu, logvar, phi, x, config):\n",
    "    recon_loss = F.mse_loss(recon, x)\n",
    "\n",
    "    kl_loss = torch.mean(-0.5 * torch.sum(1 + logvar - mu ** 2 - logvar.exp(), dim = 1), dim = 0)\n",
    "\n",
    "    # Minimize the change in action and derivative of angle over time\n",
    "    J = mu[:, :, :config['dim']]\n",
    "    phi_dot = mu[:, :, config['dim']:]\n",
    "    aa_loss = torch.sum(J - J.mean(), axis=1) + torch.sum(phi_dot - phi_dot.mean(), axis=1)\n",
    "\n",
    "    loss = recon_loss + config['kl_weight']*kl_loss + config['aa_weight']*aa_loss\n",
    "\n",
    "    return loss"
   ]
  },
  {
   "cell_type": "code",
   "execution_count": null,
   "metadata": {},
   "outputs": [],
   "source": [
    "model = ActionAngleVAE().to(device)\n",
    "optimizer = optim.SGD(model.parameters(), lr=config['lr'])"
   ]
  },
  {
   "cell_type": "code",
   "execution_count": null,
   "metadata": {},
   "outputs": [],
   "source": [
    "for epoch in tqdm(range(config['epochs'])):\n",
    "    for batch_idx, x in enumerate(train_loader):\n",
    "        optimizer.zero_grad()\n",
    "        recon, mu, logvar, phi, J = model(x)\n",
    "        loss = loss_fn(recon, mu, logvar, phi)\n",
    "        loss.backward()\n",
    "        optimizer.step()"
   ]
  }
 ],
 "metadata": {
  "kernelspec": {
   "display_name": "poel",
   "language": "python",
   "name": "python3"
  },
  "language_info": {
   "codemirror_mode": {
    "name": "ipython",
    "version": 3
   },
   "file_extension": ".py",
   "mimetype": "text/x-python",
   "name": "python",
   "nbconvert_exporter": "python",
   "pygments_lexer": "ipython3",
   "version": "3.11.11"
  }
 },
 "nbformat": 4,
 "nbformat_minor": 2
}
