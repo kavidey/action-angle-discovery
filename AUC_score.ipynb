{
 "cells": [
  {
   "cell_type": "code",
   "execution_count": 2,
   "id": "726df275",
   "metadata": {},
   "outputs": [],
   "source": [
    "import pandas as pd\n",
    "import numpy as np\n",
    "import matplotlib.pyplot as plt"
   ]
  },
  {
   "cell_type": "code",
   "execution_count": 20,
   "id": "2d677b56",
   "metadata": {},
   "outputs": [],
   "source": [
    "import numpy as np\n",
    "\n",
    "def score_calculator(testY, pred, std, actual_threshold, pred_thresholds):\n",
    "    actual_val = np.array(testY).flatten()\n",
    "    pred_val = np.array(pred).flatten()\n",
    "    std_val = np.array(std).flatten()\n",
    "\n",
    "    percentage_error = np.abs(actual_val - pred_val) / (np.abs(actual_val) + 1e-8)\n",
    "    pct_err_gt_thresh = percentage_error > actual_threshold\n",
    "    pct_err_gt_thresh = np.array(pct_err_gt_thresh)\n",
    "\n",
    "    pct_err_gt_thresh = pct_err_gt_thresh[:, np.newaxis]\n",
    "    std_val_reshaped = std_val[:, np.newaxis]\n",
    "    pred_thresholds_reshaped = pred_thresholds[np.newaxis, :]\n",
    "\n",
    "    std_gt_pred_thresh = std_val_reshaped > pred_thresholds_reshaped\n",
    "    \n",
    "    TP = np.sum(pct_err_gt_thresh & std_gt_pred_thresh, axis=0)\n",
    "    FP = np.sum((~pct_err_gt_thresh) & std_gt_pred_thresh, axis=0)\n",
    "    FN = np.sum(pct_err_gt_thresh & (~std_gt_pred_thresh), axis=0)\n",
    "    TN = np.sum((~pct_err_gt_thresh) & (~std_gt_pred_thresh), axis=0)\n",
    "    \n",
    "    # Calculate rates with zero-division protection\n",
    "    tpr = np.where((TP + FN) > 0, TP / (TP + FN), 0.0)\n",
    "    fpr = np.where((FP + TN) > 0, FP / (FP + TN), 0.0)\n",
    "    \n",
    "    return tpr, fpr"
   ]
  },
  {
   "cell_type": "code",
   "execution_count": null,
   "id": "02a4fee8",
   "metadata": {},
   "outputs": [
    {
     "data": {
      "text/html": [
       "<div>\n",
       "<style scoped>\n",
       "    .dataframe tbody tr th:only-of-type {\n",
       "        vertical-align: middle;\n",
       "    }\n",
       "\n",
       "    .dataframe tbody tr th {\n",
       "        vertical-align: top;\n",
       "    }\n",
       "\n",
       "    .dataframe thead th {\n",
       "        text-align: right;\n",
       "    }\n",
       "</style>\n",
       "<table border=\"1\" class=\"dataframe\">\n",
       "  <thead>\n",
       "    <tr style=\"text-align: right;\">\n",
       "      <th></th>\n",
       "      <th>Unnamed: 0</th>\n",
       "      <th>actual_dele</th>\n",
       "      <th>pred_xgb</th>\n",
       "      <th>percent_error_xgb</th>\n",
       "    </tr>\n",
       "  </thead>\n",
       "  <tbody>\n",
       "    <tr>\n",
       "      <th>0</th>\n",
       "      <td>0</td>\n",
       "      <td>0.000067</td>\n",
       "      <td>-0.024379</td>\n",
       "      <td>6.047186</td>\n",
       "    </tr>\n",
       "    <tr>\n",
       "      <th>1</th>\n",
       "      <td>1</td>\n",
       "      <td>-0.006115</td>\n",
       "      <td>-0.005951</td>\n",
       "      <td>5.306468</td>\n",
       "    </tr>\n",
       "    <tr>\n",
       "      <th>2</th>\n",
       "      <td>2</td>\n",
       "      <td>0.027774</td>\n",
       "      <td>0.033766</td>\n",
       "      <td>4.944227</td>\n",
       "    </tr>\n",
       "    <tr>\n",
       "      <th>3</th>\n",
       "      <td>3</td>\n",
       "      <td>-0.041527</td>\n",
       "      <td>-0.038133</td>\n",
       "      <td>-2.183599</td>\n",
       "    </tr>\n",
       "    <tr>\n",
       "      <th>4</th>\n",
       "      <td>4</td>\n",
       "      <td>-0.038788</td>\n",
       "      <td>-0.053605</td>\n",
       "      <td>-4.710477</td>\n",
       "    </tr>\n",
       "    <tr>\n",
       "      <th>...</th>\n",
       "      <td>...</td>\n",
       "      <td>...</td>\n",
       "      <td>...</td>\n",
       "      <td>...</td>\n",
       "    </tr>\n",
       "    <tr>\n",
       "      <th>99901</th>\n",
       "      <td>99901</td>\n",
       "      <td>-0.007436</td>\n",
       "      <td>-0.006675</td>\n",
       "      <td>-9.691001</td>\n",
       "    </tr>\n",
       "    <tr>\n",
       "      <th>99902</th>\n",
       "      <td>99902</td>\n",
       "      <td>0.036921</td>\n",
       "      <td>0.037509</td>\n",
       "      <td>7.114975</td>\n",
       "    </tr>\n",
       "    <tr>\n",
       "      <th>99903</th>\n",
       "      <td>99903</td>\n",
       "      <td>0.045792</td>\n",
       "      <td>0.039074</td>\n",
       "      <td>19.883968</td>\n",
       "    </tr>\n",
       "    <tr>\n",
       "      <th>99904</th>\n",
       "      <td>99904</td>\n",
       "      <td>-0.001959</td>\n",
       "      <td>0.004483</td>\n",
       "      <td>-5.561484</td>\n",
       "    </tr>\n",
       "    <tr>\n",
       "      <th>99905</th>\n",
       "      <td>99905</td>\n",
       "      <td>0.030482</td>\n",
       "      <td>-0.014078</td>\n",
       "      <td>-8.177029</td>\n",
       "    </tr>\n",
       "  </tbody>\n",
       "</table>\n",
       "<p>99906 rows × 4 columns</p>\n",
       "</div>"
      ],
      "text/plain": [
       "       Unnamed: 0  actual_dele  pred_xgb  percent_error_xgb\n",
       "0               0     0.000067 -0.024379           6.047186\n",
       "1               1    -0.006115 -0.005951           5.306468\n",
       "2               2     0.027774  0.033766           4.944227\n",
       "3               3    -0.041527 -0.038133          -2.183599\n",
       "4               4    -0.038788 -0.053605          -4.710477\n",
       "...           ...          ...       ...                ...\n",
       "99901       99901    -0.007436 -0.006675          -9.691001\n",
       "99902       99902     0.036921  0.037509           7.114975\n",
       "99903       99903     0.045792  0.039074          19.883968\n",
       "99904       99904    -0.001959  0.004483          -5.561484\n",
       "99905       99905     0.030482 -0.014078          -8.177029\n",
       "\n",
       "[99906 rows x 4 columns]"
      ]
     },
     "execution_count": 9,
     "metadata": {},
     "output_type": "execute_result"
    }
   ],
   "source": [
    "df = pd.read_csv(\"tables_for_analysis/XGBoost_results.csv\")\n",
    "df"
   ]
  },
  {
   "cell_type": "code",
   "execution_count": null,
   "id": "5cf1db48",
   "metadata": {},
   "outputs": [],
   "source": [
    "actual_threshold = 0.05\n",
    "pred_thresholds = np.linspace(0, 0.15, 1000)\n",
    "testY = df[\"actual_dele\"]\n",
    "pred = df[\"pred_xgb\"]\n",
    "error = df[\"percent_error_xgb\"] * 0.01\n",
    "tpr, fpr = score_calculator(testY, pred, error, actual_threshold, pred_thresholds)\n"
   ]
  },
  {
   "cell_type": "code",
   "execution_count": 38,
   "id": "9e9a8ab7",
   "metadata": {},
   "outputs": [],
   "source": [
    "fpr = np.array(fpr)\n",
    "tpr = np.array(tpr)\n",
    "sorted_indices = np.argsort(fpr)\n",
    "fpr = fpr[sorted_indices]\n",
    "tpr = tpr[sorted_indices]"
   ]
  },
  {
   "cell_type": "code",
   "execution_count": 39,
   "id": "7fe72e49",
   "metadata": {},
   "outputs": [
    {
     "data": {
      "image/png": "[encoded data removed]",
      "text/plain": [
       "<Figure size 600x500 with 1 Axes>"
      ]
     },
     "metadata": {},
     "output_type": "display_data"
    }
   ],
   "source": [
    "plt.figure(figsize=(6, 5))\n",
    "plt.plot(fpr, tpr)\n",
    "plt.xlabel(\"False Positive Rate\")\n",
    "plt.ylabel(\"True Positive Rate\")\n",
    "plt.show()"
   ]
  },
  {
   "cell_type": "code",
   "execution_count": 40,
   "id": "e6d71121",
   "metadata": {},
   "outputs": [
    {
     "name": "stdout",
     "output_type": "stream",
     "text": [
      "the AUC score is 0.10385999798690707\n"
     ]
    }
   ],
   "source": [
    "from sklearn.metrics import auc\n",
    "auc_score = auc(fpr, tpr)\n",
    "print(f\"the AUC score is {auc_score}\")"
   ]
  },
  {
   "cell_type": "code",
   "execution_count": null,
   "id": "602430d6",
   "metadata": {},
   "outputs": [],
   "source": [
    "df_nn = pd.read_csv(\"tables_for_analysis/Neural_Network_results.csv\")\n",
    "df_ngb = pd.read_csv(\"tables_for_analysis/NGBoost_results.csv\")"
   ]
  }
 ],
 "metadata": {
  "kernelspec": {
   "display_name": "lshen",
   "language": "python",
   "name": "python3"
  },
  "language_info": {
   "codemirror_mode": {
    "name": "ipython",
    "version": 3
   },
   "file_extension": ".py",
   "mimetype": "text/x-python",
   "name": "python",
   "nbconvert_exporter": "python",
   "pygments_lexer": "ipython3",
   "version": "3.12.8"
  }
 },
 "nbformat": 4,
 "nbformat_minor": 5
}
